{
 "cells": [
  {
   "cell_type": "code",
   "execution_count": 1,
   "id": "6c9a26b6-67ef-490d-ad12-848bd957f750",
   "metadata": {
    "tags": []
   },
   "outputs": [
    {
     "name": "stderr",
     "output_type": "stream",
     "text": [
      "/home/ayush/projects/nerf/.venv/lib/python3.8/site-packages/tqdm/auto.py:21: TqdmWarning: IProgress not found. Please update jupyter and ipywidgets. See https://ipywidgets.readthedocs.io/en/stable/user_install.html\n",
      "  from .autonotebook import tqdm as notebook_tqdm\n"
     ]
    }
   ],
   "source": [
    "import sys\n",
    "sys.path.append(\"../\")\n",
    "import os, os.path as osp\n",
    "import numpy as np\n",
    "from typing import List, Dict, Union\n",
    "from collections import namedtuple\n",
    "import torch\n",
    "import torch.nn as nn\n",
    "import torch.functional as F\n",
    "import cv2\n",
    "import matplotlib.pyplot as plt\n",
    "import time\n",
    "\n",
    "import mcubes\n",
    "from IPython.core.debugger import set_trace"
   ]
  },
  {
   "cell_type": "code",
   "execution_count": 2,
   "id": "c1753dd6-de03-4063-be1e-3b123b560126",
   "metadata": {
    "tags": []
   },
   "outputs": [],
   "source": [
    "%load_ext autoreload\n",
    "%autoreload 2"
   ]
  },
  {
   "cell_type": "code",
   "execution_count": 3,
   "id": "230bf05c-c2ca-4b2e-b945-89847ffc68f7",
   "metadata": {
    "tags": []
   },
   "outputs": [],
   "source": [
    "device='cuda'"
   ]
  },
  {
   "cell_type": "markdown",
   "id": "4d052ddc-ebb3-44b4-a7bf-d0447d4abadf",
   "metadata": {
    "tags": []
   },
   "source": [
    "# Positional Encodings"
   ]
  },
  {
   "cell_type": "code",
   "execution_count": 4,
   "id": "0372c26e-1577-4488-b1d7-5bdf99884597",
   "metadata": {
    "jupyter": {
     "source_hidden": true
    },
    "tags": []
   },
   "outputs": [],
   "source": [
    "\n",
    "\n",
    "# def get_coordinate_distance(side: float, \n",
    "#                             u: np.ndarray,\n",
    "#                             v: np.ndarray):\n",
    "#     x = np.array([np.floor(u/side), np.ceil(u/side) ])\n",
    "#     y = np.array([np.floor(v/side), np.ceil(v/side) ])\n",
    "#     print(x, y)\n",
    "#     mx, my  = np.meshgrid(x, y)\n",
    "#     d = np.sqrt( (mx - u)**2 + (my - v)**2)\n",
    "#     sorrounding = np.vstack([mx.flatten(), my.flatten()]).T\n",
    "#     print(sorrounding.shape)\n",
    "#     return d.flatten(), sorrounding\n",
    "    \n",
    "                 \n",
    "# get_coordinate_distance(2, 3.7, 2.4)"
   ]
  },
  {
   "cell_type": "code",
   "execution_count": 5,
   "id": "f1ddaebf-5d9f-4573-8e13-1d08301a0a8c",
   "metadata": {
    "tags": []
   },
   "outputs": [],
   "source": [
    "class MultiResHashEncoding(nn.Module):\n",
    "    \n",
    "    def __init__(self, L=16, T=2**14, F=2, Nmin=16, Nmax=512, device='cpu'):\n",
    "        super(MultiResHashEncoding, self).__init__()\n",
    "        self.growth_factor = np.exp((np.log(Nmax) - np.log(Nmin))/(L - 1))\n",
    "        self.levels = torch.arange(0, L, device=device)\n",
    "        self.levels = Nmin * self.growth_factor ** self.levels\n",
    "        self.hash_tables = nn.Parameter(torch.zeros(L, T, F), requires_grad=True).to(device) # L, T, F        \n",
    "        \n",
    "        self.L = L\n",
    "        self.T = T\n",
    "        self.F = F\n",
    "        self.Nmin = Nmin\n",
    "        self.Nmax = Nmax\n",
    "        self.device = device\n",
    "        \n",
    "        # Paper uses three prime numbers for 3 dimesnional points\n",
    "        self.primes = torch.tensor([1, 2654435761, 805459861]).to(int).to(device)\n",
    "        \n",
    "        # The hash table is initialized using uniform in -10e-4, 10e-4\n",
    "        for param in self.hash_tables:\n",
    "            if isinstance(param, nn.Parameter):\n",
    "                nn.init.uniform_(param, -10e-4, 10e-4)        \n",
    "        \n",
    "    \n",
    "    \n",
    "    def forward(self, xyz_p):                                \n",
    "        \"\"\"\n",
    "        xyz_p: ray points\n",
    "        xyz_d: ray_directions\n",
    "        \"\"\"\n",
    "        # tic = time.time()\n",
    "        xyz_en = self.get_multires_hash_encoding(xyz_p)\n",
    "        # toc = time.time()\n",
    "        # print(f\"MHRE time: {(toc - tic)* 1000} ms\")\n",
    "        return xyz_en\n",
    "        pass\n",
    "    \n",
    "    def get_multires_hash_encoding(self, pts): \n",
    "        BS = pts.shape[0]\n",
    "        pos_embed = torch.zeros((L, BS, 2), device=self.device)\n",
    "        level_encodings = []\n",
    "        for level in range(self.L):\n",
    "            # scale the points by the growth\n",
    "            pL = self.levels[level] * pts # Bs, 3\n",
    "            \n",
    "            # Find the floor and ceil for the points\n",
    "            fpL = torch.floor(pL) # Bs, 3\n",
    "            cpL = torch.ceil(pL)  # Bs, 3\n",
    "            \n",
    "            # Find 8 neighbours of the point in 3D grid\n",
    "            nbrs = self.get_neighbours(fpL, cpL)            # Nbrs: Bs, 8, 3\n",
    "            # print(f\"neigbors: {nbrs.shape}\")\n",
    "            \n",
    "            # find distance from each of these neighbours\n",
    "            dist = (nbrs - pts.unsqueeze(1)).norm(dim=-1)   # Dist: Bs, 8\n",
    "            # print(f\"dist: {dist.shape}\")\n",
    "            \n",
    "            # Get the hashed value of the neighbour\n",
    "            hashed_nbrs = self.hash_function(nbrs.reshape(-1, 3), level) #Bs * 8, 2\n",
    "            hashed_nbrs = hashed_nbrs.reshape(BS, -1, F)          # Bs, 8, 2              \n",
    "            # print(f\"hashed_neighbour: {hashed_nbrs.shape}\")\n",
    "            \n",
    "            # Interoloate the coordinates. Using vanilla interpolation\n",
    "            interpolated_coords = (hashed_nbrs * dist.unsqueeze(-1)).sum(1)\n",
    "            # print(interpolated_coords.shape)\n",
    "            \n",
    "            pos_embed[level] = interpolated_coords\n",
    "        \n",
    "        pos_embed = pos_embed.transpose(0,1).reshape(BS, -1)\n",
    "        return pos_embed\n",
    "            \n",
    "            \n",
    "    def get_neighbours(self, fpL, cpL):\n",
    "        neighbours = torch.zeros((fpL.shape[0], 8, 3), device=self.device)\n",
    "        idxs = torch.tensor([[0,0,0],\n",
    "                             [0,0,1],\n",
    "                             [0,1,0],\n",
    "                             [0,1,1],\n",
    "                             [1,0,0],\n",
    "                             [1,0,1],\n",
    "                             [1,1,0],\n",
    "                             [1,1,1],\n",
    "                            ], device=self.device)\n",
    "        # Expand the dimensions of fpL and cpL to match the shape of idxs\n",
    "        expanded_fpL = fpL[:, None, :]\n",
    "        expanded_cpL = cpL[:, None, :]\n",
    "\n",
    "        # Calculate the neighboring points using fpL, cpL, and idxs\n",
    "        neighbor_coords = expanded_fpL + idxs * (expanded_cpL - expanded_fpL)\n",
    "        return neighbor_coords.to(int)\n",
    "                                \n",
    "            \n",
    "            \n",
    "    def hash_function(self, key, level): #N, 3\n",
    "        # Hash function implementation\n",
    "        hashed_key = key *  self.primes\n",
    "        hashed_key = torch.bitwise_xor(hashed_key[:, 0], torch.bitwise_xor(hashed_key[:, 1], hashed_key[:, 2])) % self.T\n",
    "        result = self.hash_tables[level][hashed_key]\n",
    "        return result\n",
    "            \n",
    "            \n",
    "            \n",
    "                          \n",
    "            \n",
    "                        \n",
    "    \n",
    "# L = 16\n",
    "# T = 2 ** 14\n",
    "# F = 2\n",
    "# Nmin = 16\n",
    "# Nmax = 512\n",
    "# pe = MultiResHashEncoding(L, T, F, Nmin, Nmax)\n",
    "# pts = torch.randn((1024 * 100,3))\n",
    "# pe(pts).shape\n",
    "        \n",
    "        \n",
    "        \n",
    "        \n",
    "        "
   ]
  },
  {
   "cell_type": "markdown",
   "id": "76e8dc07-b100-442e-9d3b-ba2be303efad",
   "metadata": {
    "tags": []
   },
   "source": [
    "# Spherical Harmonics encoding"
   ]
  },
  {
   "cell_type": "code",
   "execution_count": 6,
   "id": "c69a2009-53bf-4a79-b54d-f355450bcac6",
   "metadata": {
    "tags": []
   },
   "outputs": [],
   "source": [
    "def components_from_spherical_harmonics(\n",
    "    levels: int, directions\n",
    "):\n",
    "    \"\"\"\n",
    "    Returns value for each component of spherical harmonics.\n",
    "\n",
    "    Args:\n",
    "        levels: Number of spherical harmonic levels to compute.\n",
    "        directions: Spherical harmonic coefficients\n",
    "    \"\"\"\n",
    "    num_components = levels**2\n",
    "    components = torch.zeros((*directions.shape[:-1], num_components), device=directions.device)\n",
    "\n",
    "    assert 1 <= levels <= 5, f\"SH levels must be in [1,4], got {levels}\"\n",
    "    assert directions.shape[-1] == 3, f\"Direction input should have three dimensions. Got {directions.shape[-1]}\"\n",
    "\n",
    "    x = directions[..., 0]\n",
    "    y = directions[..., 1]\n",
    "    z = directions[..., 2]\n",
    "\n",
    "    xx = x**2\n",
    "    yy = y**2\n",
    "    zz = z**2\n",
    "\n",
    "    # l0\n",
    "    components[..., 0] = 0.28209479177387814\n",
    "\n",
    "    # l1\n",
    "    if levels > 1:\n",
    "        components[..., 1] = 0.4886025119029199 * y\n",
    "        components[..., 2] = 0.4886025119029199 * z\n",
    "        components[..., 3] = 0.4886025119029199 * x\n",
    "\n",
    "    # l2\n",
    "    if levels > 2:\n",
    "        components[..., 4] = 1.0925484305920792 * x * y\n",
    "        components[..., 5] = 1.0925484305920792 * y * z\n",
    "        components[..., 6] = 0.9461746957575601 * zz - 0.31539156525251999\n",
    "        components[..., 7] = 1.0925484305920792 * x * z\n",
    "        components[..., 8] = 0.5462742152960396 * (xx - yy)\n",
    "\n",
    "    # l3\n",
    "    if levels > 3:\n",
    "        components[..., 9] = 0.5900435899266435 * y * (3 * xx - yy)\n",
    "        components[..., 10] = 2.890611442640554 * x * y * z\n",
    "        components[..., 11] = 0.4570457994644658 * y * (5 * zz - 1)\n",
    "        components[..., 12] = 0.3731763325901154 * z * (5 * zz - 3)\n",
    "        components[..., 13] = 0.4570457994644658 * x * (5 * zz - 1)\n",
    "        components[..., 14] = 1.445305721320277 * z * (xx - yy)\n",
    "        components[..., 15] = 0.5900435899266435 * x * (xx - 3 * yy)\n",
    "\n",
    "    # l4\n",
    "    if levels > 4:\n",
    "        components[..., 16] = 2.5033429417967046 * x * y * (xx - yy)\n",
    "        components[..., 17] = 1.7701307697799304 * y * z * (3 * xx - yy)\n",
    "        components[..., 18] = 0.9461746957575601 * x * y * (7 * zz - 1)\n",
    "        components[..., 19] = 0.6690465435572892 * y * (7 * zz - 3)\n",
    "        components[..., 20] = 0.10578554691520431 * (35 * zz * zz - 30 * zz + 3)\n",
    "        components[..., 21] = 0.6690465435572892 * x * z * (7 * zz - 3)\n",
    "        components[..., 22] = 0.47308734787878004 * (xx - yy) * (7 * zz - 1)\n",
    "        components[..., 23] = 1.7701307697799304 * x * z * (xx - 3 * yy)\n",
    "        components[..., 24] = 0.4425326924449826 * (xx * (xx - 3 * yy) - yy * (3 * xx - yy))\n",
    "\n",
    "    return components\n",
    "\n",
    "# pts = torch.randn(30, 3)\n",
    "# components_from_spherical_harmonics(4, pts).shape"
   ]
  },
  {
   "cell_type": "markdown",
   "id": "ace2aaf4-da74-4380-9923-a3388463c509",
   "metadata": {
    "tags": []
   },
   "source": [
    " # Model"
   ]
  },
  {
   "cell_type": "code",
   "execution_count": 7,
   "id": "380f040c-97f1-4f8f-8fae-6901a0ccc6dd",
   "metadata": {
    "tags": []
   },
   "outputs": [],
   "source": [
    "class NGP_MLP(nn.Module):\n",
    "    \n",
    "    def __init__(self, L=16, T=2 ** 14, F=2, Nmin=16, Nmax=512, sph_coeff=4, hidden_dim=64, device='cpu'):\n",
    "        super(NGP_MLP, self).__init__()\n",
    "        self.sigma_block = nn.Sequential( nn.Linear(L* F, hidden_dim), nn.ReLU(),\n",
    "                                       nn.Linear(hidden_dim, 16)\n",
    "                                    ).to(device)\n",
    "        self.rgb_block = nn.Sequential(nn.Linear(16 + 16, hidden_dim), nn.ReLU(),\n",
    "                                         nn.Linear(hidden_dim, hidden_dim), nn.ReLU(),\n",
    "                                         nn.Linear(hidden_dim, 3)\n",
    "                                        ).to(device=device)\n",
    "        \n",
    "        self.mrhe = MultiResHashEncoding(L, T, F, Nmin, Nmax, device)\n",
    "        self.L = L\n",
    "        self.T = T\n",
    "        self.F = F\n",
    "        self.Nmin = Nmin\n",
    "        self.Nmax = Nmax\n",
    "        self.sph_coeff=sph_coeff\n",
    "        self.hidden_dim = hidden_dim\n",
    "        self.device = device\n",
    "        \n",
    "        for _, param in self.sigma_block.named_parameters():\n",
    "            if isinstance(param, nn.Linear):\n",
    "                nn.init.xavier_uniform_(param.weight)\n",
    "                if param.bias is not None:\n",
    "                    nn.init.zeros_(param.bias)\n",
    "                \n",
    "        \n",
    "    def forward(self, xyz_p, xyz_d):\n",
    "        \"\"\"\n",
    "        xyz_p: N, 3 points sampled\n",
    "        xyz_d: N, 3 direction vectors. Make sure, they are normalized\n",
    "        \"\"\"\n",
    "        \n",
    "        xyz_p_em = self.mrhe(xyz_p).to(self.device)\n",
    "        xyz_d_em = components_from_spherical_harmonics(self.sph_coeff, xyz_d).to(self.device)\n",
    "        \n",
    "        out = self.sigma_block(xyz_p_em)\n",
    "        sigma = out[:, -1]\n",
    "        color = self.rgb_block(torch.cat([out, xyz_d_em], dim=-1))\n",
    "        return torch.sigmoid(color), torch.relu(sigma)\n",
    "\n",
    "    def intersect(self, xyz_p, xyz_d):\n",
    "        return self.forward(xyz_p, xyz_d)\n",
    "    \n",
    "# L = 16\n",
    "# T = 2 ** 14\n",
    "# F = 2\n",
    "# Nmin = 16\n",
    "# Nmax = 512\n",
    "# sph_coeff = 4\n",
    "# hidden_dim = 64\n",
    "# ngp = NGP_MLP( L, T, F, Nmin, Nmax, sph_coeff, hidden_dim, device=device)\n"
   ]
  },
  {
   "cell_type": "markdown",
   "id": "9e7655a4-3a32-40f3-9324-b59d8278e23d",
   "metadata": {
    "tags": []
   },
   "source": [
    "# Rendering"
   ]
  },
  {
   "cell_type": "code",
   "execution_count": 8,
   "id": "29d57af2-1f81-4ad2-b458-4019833afe9c",
   "metadata": {
    "tags": []
   },
   "outputs": [],
   "source": [
    "from src.utils.render import render, accumulated_transmittance, find_t0_for_image"
   ]
  },
  {
   "cell_type": "code",
   "execution_count": 9,
   "id": "8d57022d-1f87-4a80-a61a-591e7adc8c6d",
   "metadata": {
    "tags": []
   },
   "outputs": [],
   "source": [
    "def render_with_perturbation(model: nn.Module,\n",
    "           rays_o: np.ndarray,\n",
    "           rays_d: np.ndarray,\n",
    "           tn: float,\n",
    "           tf: float,\n",
    "           num_bins=100,\n",
    "           device='cpu',\n",
    "           directional_input=True,\n",
    "           white_bgr=True):\n",
    "    \"\"\"\n",
    "    Assigns color values to each ray\n",
    "    :param model: A model to represent the 3D shape\n",
    "    :param rays_o: Origin of rays coming from camera\n",
    "    :param rays_d: Direction of rays coming from camera\n",
    "    :param tn: initial query time\n",
    "    :param tf: final query time. We will integreate bw tn, tf\n",
    "    :param num_bins: the num of bins to divide this query window in\n",
    "    :param device: {cuda, cpu}\n",
    "    :param white_bckgr: if the image has a white background\n",
    "    :return:\n",
    "    \"\"\"\n",
    "\n",
    "    num_points = rays_o.shape[0]\n",
    "    if isinstance(rays_o, np.ndarray):\n",
    "        rays_o = torch.from_numpy(rays_o).float().to(device=device)\n",
    "    if isinstance(rays_d, np.ndarray):\n",
    "        rays_d = torch.from_numpy(rays_d).float().to(device=device)\n",
    "    t = torch.linspace(tn, tf, num_bins).to(device=device).expand(rays_o.shape[0], num_bins)  # Npts, nbins\n",
    "    # Perturb sampling along each ray.\n",
    "    mid = (t[:, :-1] + t[:, 1:]) / 2.\n",
    "    lower = torch.cat((t[:, :1], mid), -1)\n",
    "    upper = torch.cat((mid, t[:, -1:]), -1)\n",
    "    u = torch.rand(t.shape, device=device)\n",
    "    t = lower + (upper - lower) * u  # [batch_size, nb_bins]\n",
    "    delta = torch.cat((t[:, 1:] - t[:, :-1], torch.tensor([1e10], device=device).expand(rays_o.shape[0], 1)), -1)\n",
    "\n",
    "    r = rays_o.unsqueeze(1) + t.unsqueeze(2) * rays_d.unsqueeze(1)  # [batch_size, nb_bins, 3]\n",
    "    if directional_input:\n",
    "        colors, density = model.intersect(r.reshape(-1, 3),\n",
    "                                          rays_d.expand(num_bins, num_points, 3).transpose(0, 1).reshape(-1, 3))\n",
    "    else:\n",
    "        colors, density = model.intersect(r.reshape(-1, 3))\n",
    "\n",
    "    density = density.reshape(num_points, num_bins)  # density: Npts, Nbins\n",
    "    colors = colors.reshape(num_points, num_bins, 3)  # colors: Npts , Nbins, 3\n",
    "    alpha = 1. - torch.exp(- density * delta)  # Npts, Nbins\n",
    "    weights = accumulated_transmittance(1 - alpha).unsqueeze(2) * alpha.unsqueeze(2)\n",
    "\n",
    "    if white_bgr:\n",
    "        c = (weights * colors).sum(1)  # [nb_rays, 3]\n",
    "        weight_sum = weights.sum(-1).sum(-1)  # [nb_rays]\n",
    "        return c + 1 - weight_sum.unsqueeze(-1)\n",
    "    else:\n",
    "        c = (weights * colors).sum(1)  # [nb_rays, 3]\n",
    "    return c\n",
    "\n",
    "\n",
    "def batchify_image_and_render(model: nn.Module,\n",
    "                              rays_o: np.ndarray,\n",
    "                              rays_d: np.ndarray,\n",
    "                              tn: float,\n",
    "                              tf: float,\n",
    "                              num_bins: int=100,\n",
    "                              reduction_factor:int=128,\n",
    "                              directional_input=True,\n",
    "                              device='cpu',\n",
    "                              white_bgr=True) -> np.ndarray:\n",
    "    \"\"\"\n",
    "\n",
    "    :param model: A model to represent the 3D shape\n",
    "    :param rays_o: Origin of rays coming from camera\n",
    "    :param rays_d: Direction of rays coming from camera\n",
    "    :param tn: initial query time\n",
    "    :param tf: final query time. We will integreate bw tn, tf\n",
    "    :param reduction_factor: Divides the total points by this factor\n",
    "    :param num_bins: the num of bins to divide this query window in\n",
    "    :param device: {cuda, cpu}\n",
    "    :param white_bckgr: if the image has a white background\n",
    "    :return:\n",
    "    \"\"\"\n",
    "    with torch.no_grad():\n",
    "        npts = rays_o.shape[0]\n",
    "        assert npts % reduction_factor == 0\n",
    "        batch_o = rays_o.reshape(-1, npts//reduction_factor, 3)\n",
    "        batch_d = rays_d.reshape(-1, npts//reduction_factor, 3)\n",
    "        if isinstance(rays_o, np.ndarray):\n",
    "            Ax = np.zeros_like(batch_o)\n",
    "        else:\n",
    "            Ax = torch.zeros_like(batch_o)\n",
    "        for i in range(batch_o.shape[0]):\n",
    "            Ax[i] = render(model,\n",
    "                           batch_o[i],\n",
    "                           batch_d[i],\n",
    "                           tn=tn,\n",
    "                           tf=tf,\n",
    "                           num_bins=num_bins,\n",
    "                           device=device,\n",
    "                           directional_input=directional_input,\n",
    "                           white_bgr=white_bgr).detach().cpu()\n",
    "        if isinstance(Ax, np.ndarray):\n",
    "            return Ax.reshape(-1, 3)\n",
    "        return Ax.reshape(-1, 3).cpu().numpy()"
   ]
  },
  {
   "cell_type": "markdown",
   "id": "8075807f-f8d4-429b-8f60-b9dae1a7f821",
   "metadata": {
    "tags": []
   },
   "source": [
    "# Generating Experiment Session"
   ]
  },
  {
   "cell_type": "code",
   "execution_count": 10,
   "id": "3346b824-c0e7-46c7-b150-67e5cb9d241a",
   "metadata": {
    "tags": []
   },
   "outputs": [],
   "source": [
    "Session = namedtuple('Session', ['sess_dir', 't_started'])\n",
    "\n",
    "def generate_new_session(root, obj=None):\n",
    "    from datetime import datetime\n",
    "    dt = datetime.now()\n",
    "    dt_str = dt.strftime(\"%Y-%m-%d %H:%M:%S\") # Convert datetime to a string\n",
    "    if obj is None:\n",
    "        obj = \"\"\n",
    "    sess_dir = osp.join(root, f\"exp-{obj}-{dt_str}\")\n",
    "    if not osp.exists(sess_dir):\n",
    "        os.makedirs(sess_dir, exist_ok=True)\n",
    "    session = Session(sess_dir, dt)\n",
    "    return session\n",
    "\n",
    "def save_model(sess, model, epoch):\n",
    "    modelpath = osp.join(sess.sess_dir, f\"epoch-{epoch}\")\n",
    "    torch.save(model.cpu(), modelpath)"
   ]
  },
  {
   "cell_type": "markdown",
   "id": "f4714ae1-a64e-44c5-9d7d-452dddc31060",
   "metadata": {},
   "source": [
    "# Train on Lego 100x100"
   ]
  },
  {
   "cell_type": "markdown",
   "id": "e246a8f0-b14b-42f7-93e4-a388a53d2115",
   "metadata": {},
   "source": [
    "## Load the Lego Dataset"
   ]
  },
  {
   "cell_type": "code",
   "execution_count": 11,
   "id": "36fcfa88-c7f2-4a03-9853-9fd140ff9700",
   "metadata": {
    "tags": []
   },
   "outputs": [
    {
     "name": "stdout",
     "output_type": "stream",
     "text": [
      "(106, 100, 100, 3) (106, 4, 4)\n",
      "Shapes:  (106, 10000, 3) (106, 10000, 3) (106, 10000, 3)\n"
     ]
    },
    {
     "data": {
      "text/plain": [
       "((1060000, 9), dtype('float32'))"
      ]
     },
     "execution_count": 11,
     "metadata": {},
     "output_type": "execute_result"
    }
   ],
   "source": [
    "from src.utils.dataset.lego_dataset import create_rays\n",
    "\n",
    "obj = \"lego\"\n",
    "H = W = 100\n",
    "root = f\"../data/{obj}\"\n",
    "\n",
    "focal = np.load(osp.join(root, \"focal.npy\"))\n",
    "poses = np.load(osp.join(root, \"poses.npy\"))\n",
    "imgs = np.load(osp.join(root, \"images.npy\"))\n",
    "\n",
    "print(imgs.shape, poses.shape)\n",
    "o, d, imgt = [], [], []\n",
    "N = len(imgs)\n",
    "for i in range(N):\n",
    "    o_, d_ = create_rays(imgs[i], poses[i], focal)\n",
    "    o.append(o_)\n",
    "    d.append(d_)\n",
    "    imgt.append(imgs[i].reshape(-1, 3))\n",
    "    \n",
    "o = np.array(o)\n",
    "d = np.array(d)\n",
    "imgt = np.array(imgt)\n",
    "print(\"Shapes: \", o.shape, d.shape, imgt.shape)\n",
    "dataset = np.concatenate([o.reshape(-1, 3), d.reshape(-1, 3), imgt.reshape(-1, 3)], axis=1).astype(np.float32)\n",
    "dataset.shape, dataset.dtype"
   ]
  },
  {
   "cell_type": "code",
   "execution_count": null,
   "id": "03a67266-d5e9-4a24-af24-ec9f11a12b2f",
   "metadata": {},
   "outputs": [],
   "source": []
  },
  {
   "cell_type": "markdown",
   "id": "86ca8ade-b456-4fc8-9f89-5b63267895b0",
   "metadata": {},
   "source": [
    "## Training Loop"
   ]
  },
  {
   "cell_type": "markdown",
   "id": "6ea31ebf-65c2-4db6-962f-ff6d855dac1b",
   "metadata": {},
   "source": [
    "### Dataloader"
   ]
  },
  {
   "cell_type": "code",
   "execution_count": 12,
   "id": "88d03124-4270-4587-9067-8c97a5d497fa",
   "metadata": {
    "tags": []
   },
   "outputs": [],
   "source": [
    "from torch.utils.data import DataLoader\n",
    "from tqdm import tqdm\n",
    "\n",
    "batch_size = 2**12\n",
    "dataloader_train = DataLoader(torch.from_numpy(dataset).to(device=device), batch_size=batch_size, shuffle=True)"
   ]
  },
  {
   "cell_type": "markdown",
   "id": "5fcdd643-4b21-43b8-895f-0b67264d1eae",
   "metadata": {
    "tags": []
   },
   "source": [
    "### Define Hyper-parameters"
   ]
  },
  {
   "cell_type": "code",
   "execution_count": 13,
   "id": "fe5b54bd-afdb-4576-bc31-880aea593858",
   "metadata": {
    "tags": []
   },
   "outputs": [],
   "source": [
    "\n",
    "obj = \"lego100x100\"\n",
    "\n",
    "## Model Hyperparams\n",
    "L = 16\n",
    "T = 2 ** 14\n",
    "F = 2\n",
    "Nmin = 16\n",
    "Nmax = 256\n",
    "sph_coeff = 4\n",
    "hidden_dim = 64\n",
    "\n",
    "## Rendering params\n",
    "tn = 2.\n",
    "tf = 6.\n",
    "num_bins = 192\n",
    "directional_input = True\n",
    "white_bgr = False\n",
    "\n",
    "###  TRAINING\n",
    "num_epochs= 50\n",
    "warmup_epochs = 1\n",
    "lr = 1e-2\n",
    "\n",
    "## TESTING\n",
    "test_ids  = np.random.randint(low=0, high=N, size=(5,))"
   ]
  },
  {
   "cell_type": "markdown",
   "id": "44f12d12-0c50-4b85-a799-b6fdb948ad15",
   "metadata": {},
   "source": [
    "### Optimization"
   ]
  },
  {
   "cell_type": "code",
   "execution_count": 14,
   "id": "16d988c0-6180-4cd5-9249-a5cd42f6d7d4",
   "metadata": {
    "tags": []
   },
   "outputs": [
    {
     "name": "stdout",
     "output_type": "stream",
     "text": [
      "--------------------------------------\n",
      "\n",
      "Starting main process\n"
     ]
    },
    {
     "name": "stderr",
     "output_type": "stream",
     "text": [
      "100%|██████████████████████████████████████████████████████████████████████████████████████████████████████| 259/259 [01:21<00:00,  3.18it/s]\n"
     ]
    },
    {
     "name": "stdout",
     "output_type": "stream",
     "text": [
      "Epoch: 0: avg_loss: 0.08348846777870848\n",
      "Test IDs: 94       | PSNR:  12.545 | MSE : 0.056\n",
      "Test IDs: 51       | PSNR:  15.161 | MSE : 0.030\n",
      "Test IDs: 29       | PSNR:  9.792 | MSE : 0.105\n",
      "Test IDs: 105       | PSNR:  9.317 | MSE : 0.117\n",
      "Test IDs: 15       | PSNR:  11.349 | MSE : 0.073\n"
     ]
    },
    {
     "name": "stderr",
     "output_type": "stream",
     "text": [
      "100%|██████████████████████████████████████████████████████████████████████████████████████████████████████| 259/259 [01:21<00:00,  3.18it/s]\n"
     ]
    },
    {
     "name": "stdout",
     "output_type": "stream",
     "text": [
      "Epoch: 1: avg_loss: 0.08348781396868607\n",
      "Test IDs: 94       | PSNR:  12.545 | MSE : 0.056\n",
      "Test IDs: 51       | PSNR:  15.161 | MSE : 0.030\n",
      "Test IDs: 29       | PSNR:  9.792 | MSE : 0.105\n",
      "Test IDs: 105       | PSNR:  9.317 | MSE : 0.117\n",
      "Test IDs: 15       | PSNR:  11.349 | MSE : 0.073\n"
     ]
    },
    {
     "name": "stderr",
     "output_type": "stream",
     "text": [
      "100%|██████████████████████████████████████████████████████████████████████████████████████████████████████| 259/259 [01:21<00:00,  3.18it/s]\n"
     ]
    },
    {
     "name": "stdout",
     "output_type": "stream",
     "text": [
      "Epoch: 2: avg_loss: 0.08348646866423744\n",
      "Test IDs: 94       | PSNR:  12.545 | MSE : 0.056\n",
      "Test IDs: 51       | PSNR:  15.161 | MSE : 0.030\n",
      "Test IDs: 29       | PSNR:  9.792 | MSE : 0.105\n",
      "Test IDs: 105       | PSNR:  9.317 | MSE : 0.117\n",
      "Test IDs: 15       | PSNR:  11.349 | MSE : 0.073\n"
     ]
    },
    {
     "name": "stderr",
     "output_type": "stream",
     "text": [
      "100%|██████████████████████████████████████████████████████████████████████████████████████████████████████| 259/259 [01:21<00:00,  3.17it/s]\n"
     ]
    },
    {
     "name": "stdout",
     "output_type": "stream",
     "text": [
      "Epoch: 3: avg_loss: 0.08348794520246476\n",
      "Test IDs: 94       | PSNR:  12.545 | MSE : 0.056\n",
      "Test IDs: 51       | PSNR:  15.161 | MSE : 0.030\n",
      "Test IDs: 29       | PSNR:  9.792 | MSE : 0.105\n",
      "Test IDs: 105       | PSNR:  9.317 | MSE : 0.117\n",
      "Test IDs: 15       | PSNR:  11.349 | MSE : 0.073\n"
     ]
    },
    {
     "name": "stderr",
     "output_type": "stream",
     "text": [
      "100%|██████████████████████████████████████████████████████████████████████████████████████████████████████| 259/259 [01:20<00:00,  3.20it/s]\n"
     ]
    },
    {
     "name": "stdout",
     "output_type": "stream",
     "text": [
      "Epoch: 4: avg_loss: 0.08348722197834589\n",
      "Test IDs: 94       | PSNR:  12.545 | MSE : 0.056\n",
      "Test IDs: 51       | PSNR:  15.161 | MSE : 0.030\n",
      "Test IDs: 29       | PSNR:  9.792 | MSE : 0.105\n",
      "Test IDs: 105       | PSNR:  9.317 | MSE : 0.117\n",
      "Test IDs: 15       | PSNR:  11.349 | MSE : 0.073\n"
     ]
    },
    {
     "name": "stderr",
     "output_type": "stream",
     "text": [
      "100%|██████████████████████████████████████████████████████████████████████████████████████████████████████| 259/259 [01:21<00:00,  3.16it/s]\n"
     ]
    },
    {
     "name": "stdout",
     "output_type": "stream",
     "text": [
      "Epoch: 5: avg_loss: 0.08348576013991271\n",
      "Test IDs: 94       | PSNR:  12.545 | MSE : 0.056\n",
      "Test IDs: 51       | PSNR:  15.161 | MSE : 0.030\n",
      "Test IDs: 29       | PSNR:  9.792 | MSE : 0.105\n",
      "Test IDs: 105       | PSNR:  9.317 | MSE : 0.117\n",
      "Test IDs: 15       | PSNR:  11.349 | MSE : 0.073\n"
     ]
    },
    {
     "name": "stderr",
     "output_type": "stream",
     "text": [
      "100%|██████████████████████████████████████████████████████████████████████████████████████████████████████| 259/259 [01:24<00:00,  3.07it/s]\n"
     ]
    },
    {
     "name": "stdout",
     "output_type": "stream",
     "text": [
      "Epoch: 6: avg_loss: 0.08348674758635893\n",
      "Test IDs: 94       | PSNR:  12.545 | MSE : 0.056\n",
      "Test IDs: 51       | PSNR:  15.161 | MSE : 0.030\n",
      "Test IDs: 29       | PSNR:  9.792 | MSE : 0.105\n",
      "Test IDs: 105       | PSNR:  9.317 | MSE : 0.117\n",
      "Test IDs: 15       | PSNR:  11.349 | MSE : 0.073\n"
     ]
    },
    {
     "name": "stderr",
     "output_type": "stream",
     "text": [
      "100%|██████████████████████████████████████████████████████████████████████████████████████████████████████| 259/259 [01:23<00:00,  3.09it/s]\n"
     ]
    },
    {
     "name": "stdout",
     "output_type": "stream",
     "text": [
      "Epoch: 7: avg_loss: 0.08348021411757672\n",
      "Test IDs: 94       | PSNR:  12.545 | MSE : 0.056\n",
      "Test IDs: 51       | PSNR:  15.161 | MSE : 0.030\n",
      "Test IDs: 29       | PSNR:  9.792 | MSE : 0.105\n",
      "Test IDs: 105       | PSNR:  9.317 | MSE : 0.117\n",
      "Test IDs: 15       | PSNR:  11.349 | MSE : 0.073\n"
     ]
    },
    {
     "name": "stderr",
     "output_type": "stream",
     "text": [
      "100%|██████████████████████████████████████████████████████████████████████████████████████████████████████| 259/259 [01:23<00:00,  3.09it/s]\n"
     ]
    },
    {
     "name": "stdout",
     "output_type": "stream",
     "text": [
      "Epoch: 8: avg_loss: 0.0834832410669695\n",
      "Test IDs: 94       | PSNR:  12.545 | MSE : 0.056\n",
      "Test IDs: 51       | PSNR:  15.161 | MSE : 0.030\n",
      "Test IDs: 29       | PSNR:  9.792 | MSE : 0.105\n",
      "Test IDs: 105       | PSNR:  9.317 | MSE : 0.117\n",
      "Test IDs: 15       | PSNR:  11.349 | MSE : 0.073\n"
     ]
    },
    {
     "name": "stderr",
     "output_type": "stream",
     "text": [
      "100%|██████████████████████████████████████████████████████████████████████████████████████████████████████| 259/259 [01:22<00:00,  3.15it/s]\n"
     ]
    },
    {
     "name": "stdout",
     "output_type": "stream",
     "text": [
      "Epoch: 9: avg_loss: 0.08348712791117002\n",
      "Test IDs: 94       | PSNR:  12.545 | MSE : 0.056\n",
      "Test IDs: 51       | PSNR:  15.161 | MSE : 0.030\n",
      "Test IDs: 29       | PSNR:  9.792 | MSE : 0.105\n",
      "Test IDs: 105       | PSNR:  9.317 | MSE : 0.117\n",
      "Test IDs: 15       | PSNR:  11.349 | MSE : 0.073\n"
     ]
    },
    {
     "name": "stderr",
     "output_type": "stream",
     "text": [
      "100%|██████████████████████████████████████████████████████████████████████████████████████████████████████| 259/259 [01:22<00:00,  3.14it/s]\n"
     ]
    },
    {
     "name": "stdout",
     "output_type": "stream",
     "text": [
      "Epoch: 10: avg_loss: 0.08348301078937229\n",
      "Test IDs: 94       | PSNR:  12.545 | MSE : 0.056\n",
      "Test IDs: 51       | PSNR:  15.161 | MSE : 0.030\n",
      "Test IDs: 29       | PSNR:  9.792 | MSE : 0.105\n",
      "Test IDs: 105       | PSNR:  9.317 | MSE : 0.117\n",
      "Test IDs: 15       | PSNR:  11.349 | MSE : 0.073\n"
     ]
    },
    {
     "name": "stderr",
     "output_type": "stream",
     "text": [
      "  0%|                                                                                                                | 0/259 [00:00<?, ?it/s]\n"
     ]
    },
    {
     "ename": "KeyboardInterrupt",
     "evalue": "",
     "output_type": "error",
     "traceback": [
      "\u001b[0;31m---------------------------------------------------------------------------\u001b[0m",
      "\u001b[0;31mKeyboardInterrupt\u001b[0m                         Traceback (most recent call last)",
      "Cell \u001b[0;32mIn[14], line 63\u001b[0m\n\u001b[1;32m     61\u001b[0m loss \u001b[38;5;241m=\u001b[39m ((Ax \u001b[38;5;241m-\u001b[39m c)\u001b[38;5;241m*\u001b[39m\u001b[38;5;241m*\u001b[39m\u001b[38;5;241m2\u001b[39m)\u001b[38;5;241m.\u001b[39mmean()\n\u001b[1;32m     62\u001b[0m optim\u001b[38;5;241m.\u001b[39mzero_grad()\n\u001b[0;32m---> 63\u001b[0m \u001b[43mloss\u001b[49m\u001b[38;5;241;43m.\u001b[39;49m\u001b[43mbackward\u001b[49m\u001b[43m(\u001b[49m\u001b[43m)\u001b[49m\n\u001b[1;32m     64\u001b[0m optim\u001b[38;5;241m.\u001b[39mstep()\n\u001b[1;32m     65\u001b[0m loss_history\u001b[38;5;241m.\u001b[39mappend(loss\u001b[38;5;241m.\u001b[39mitem())\n",
      "File \u001b[0;32m~/projects/nerf/.venv/lib/python3.8/site-packages/torch/_tensor.py:488\u001b[0m, in \u001b[0;36mTensor.backward\u001b[0;34m(self, gradient, retain_graph, create_graph, inputs)\u001b[0m\n\u001b[1;32m    478\u001b[0m \u001b[38;5;28;01mif\u001b[39;00m has_torch_function_unary(\u001b[38;5;28mself\u001b[39m):\n\u001b[1;32m    479\u001b[0m     \u001b[38;5;28;01mreturn\u001b[39;00m handle_torch_function(\n\u001b[1;32m    480\u001b[0m         Tensor\u001b[38;5;241m.\u001b[39mbackward,\n\u001b[1;32m    481\u001b[0m         (\u001b[38;5;28mself\u001b[39m,),\n\u001b[0;32m   (...)\u001b[0m\n\u001b[1;32m    486\u001b[0m         inputs\u001b[38;5;241m=\u001b[39minputs,\n\u001b[1;32m    487\u001b[0m     )\n\u001b[0;32m--> 488\u001b[0m \u001b[43mtorch\u001b[49m\u001b[38;5;241;43m.\u001b[39;49m\u001b[43mautograd\u001b[49m\u001b[38;5;241;43m.\u001b[39;49m\u001b[43mbackward\u001b[49m\u001b[43m(\u001b[49m\n\u001b[1;32m    489\u001b[0m \u001b[43m    \u001b[49m\u001b[38;5;28;43mself\u001b[39;49m\u001b[43m,\u001b[49m\u001b[43m \u001b[49m\u001b[43mgradient\u001b[49m\u001b[43m,\u001b[49m\u001b[43m \u001b[49m\u001b[43mretain_graph\u001b[49m\u001b[43m,\u001b[49m\u001b[43m \u001b[49m\u001b[43mcreate_graph\u001b[49m\u001b[43m,\u001b[49m\u001b[43m \u001b[49m\u001b[43minputs\u001b[49m\u001b[38;5;241;43m=\u001b[39;49m\u001b[43minputs\u001b[49m\n\u001b[1;32m    490\u001b[0m \u001b[43m\u001b[49m\u001b[43m)\u001b[49m\n",
      "File \u001b[0;32m~/projects/nerf/.venv/lib/python3.8/site-packages/torch/autograd/__init__.py:197\u001b[0m, in \u001b[0;36mbackward\u001b[0;34m(tensors, grad_tensors, retain_graph, create_graph, grad_variables, inputs)\u001b[0m\n\u001b[1;32m    192\u001b[0m     retain_graph \u001b[38;5;241m=\u001b[39m create_graph\n\u001b[1;32m    194\u001b[0m \u001b[38;5;66;03m# The reason we repeat same the comment below is that\u001b[39;00m\n\u001b[1;32m    195\u001b[0m \u001b[38;5;66;03m# some Python versions print out the first line of a multi-line function\u001b[39;00m\n\u001b[1;32m    196\u001b[0m \u001b[38;5;66;03m# calls in the traceback and some print out the last line\u001b[39;00m\n\u001b[0;32m--> 197\u001b[0m \u001b[43mVariable\u001b[49m\u001b[38;5;241;43m.\u001b[39;49m\u001b[43m_execution_engine\u001b[49m\u001b[38;5;241;43m.\u001b[39;49m\u001b[43mrun_backward\u001b[49m\u001b[43m(\u001b[49m\u001b[43m  \u001b[49m\u001b[38;5;66;43;03m# Calls into the C++ engine to run the backward pass\u001b[39;49;00m\n\u001b[1;32m    198\u001b[0m \u001b[43m    \u001b[49m\u001b[43mtensors\u001b[49m\u001b[43m,\u001b[49m\u001b[43m \u001b[49m\u001b[43mgrad_tensors_\u001b[49m\u001b[43m,\u001b[49m\u001b[43m \u001b[49m\u001b[43mretain_graph\u001b[49m\u001b[43m,\u001b[49m\u001b[43m \u001b[49m\u001b[43mcreate_graph\u001b[49m\u001b[43m,\u001b[49m\u001b[43m \u001b[49m\u001b[43minputs\u001b[49m\u001b[43m,\u001b[49m\n\u001b[1;32m    199\u001b[0m \u001b[43m    \u001b[49m\u001b[43mallow_unreachable\u001b[49m\u001b[38;5;241;43m=\u001b[39;49m\u001b[38;5;28;43;01mTrue\u001b[39;49;00m\u001b[43m,\u001b[49m\u001b[43m \u001b[49m\u001b[43maccumulate_grad\u001b[49m\u001b[38;5;241;43m=\u001b[39;49m\u001b[38;5;28;43;01mTrue\u001b[39;49;00m\u001b[43m)\u001b[49m\n",
      "\u001b[0;31mKeyboardInterrupt\u001b[0m: "
     ]
    }
   ],
   "source": [
    "\n",
    "\n",
    "loss_history = []\n",
    "\n",
    "model = NGP_MLP( L, T, F, Nmin, Nmax, sph_coeff, hidden_dim, device=device)\n",
    "optim = torch.optim.Adam(params=model.parameters(), lr=lr, betas=[0.9, 0.99], eps=1e-15)\n",
    "scheduler = torch.optim.lr_scheduler.ExponentialLR(optim, gamma=0.8)\n",
    "\n",
    "\n",
    "## START A NEW SESSION\n",
    "sess = generate_new_session(\"/home/ayush/projects/nerf/model_checkpoints/ingp\", obj)\n",
    "\n",
    "\n",
    "################################## TEST ON SOME IMAGES\n",
    "\n",
    "def get_mse_and_psnr(gt, pr):\n",
    "    mse = ((gt - pr)**2).mean()\n",
    "    psnr = 20 * np.log10(1 / np.sqrt(mse))\n",
    "    return psnr, mse\n",
    "\n",
    "\n",
    "def test(session, model, test_ids, tn, tf, num_bins, directional_input, white_bgr, epoch):\n",
    "    with torch.no_grad():\n",
    "        for tid in test_ids:\n",
    "            o_, d_ = create_rays(imgs[tid], poses[tid], focal)\n",
    "            im  = imgs[tid]\n",
    "            H, W, _ = im.shape\n",
    "            Ax = batchify_image_and_render(model=model,\n",
    "                                   rays_o=o_,\n",
    "                                   rays_d=d_,\n",
    "                                   tn=tn,\n",
    "                                   tf=tf,\n",
    "                                   num_bins=num_bins,\n",
    "                                   reduction_factor=16,\n",
    "                                   device=device,\n",
    "                                   directional_input=directional_input,\n",
    "                                   white_bgr=white_bgr)\n",
    "            Ax = Ax.reshape(H, W, 3)\n",
    "            psnr, mse = get_mse_and_psnr(im, Ax)\n",
    "            print(f\"Test IDs: {tid}       | PSNR: {psnr: .3f} | MSE :{mse: .3f}\")\n",
    "            Ax = (Ax.reshape(H, W, 3) * 255).astype(np.uint8)\n",
    "            imdir = osp.join(session.sess_dir, f\"epoch_{epoch}\")\n",
    "            if not osp.exists(imdir):\n",
    "                os.makedirs(imdir)\n",
    "            impath = osp.join(imdir, f\"epoch-{epoch}--image-{tid}.png\")\n",
    "            cv2.imwrite(impath, cv2.cvtColor(Ax, cv2.COLOR_RGB2BGR))\n",
    "\n",
    "####################  MAIN TRAINING LOOP\n",
    "    \n",
    "print(\"--------------------------------------\")\n",
    "print(\"\\nStarting main process\")\n",
    "for e in range(num_epochs):\n",
    "    avg_loss = 0.\n",
    "    for batch in tqdm(dataloader_train): \n",
    "        BS = batch.shape[0]\n",
    "        batch = batch.reshape(-1, 9)\n",
    "        o = batch[:, 0:3]\n",
    "        d = batch[:, 3:6]\n",
    "        c = batch[:, 6:]\n",
    "        Ax = render_with_perturbation(model, o, d, tn, tf, num_bins, \n",
    "                    directional_input=directional_input, device=device,\n",
    "                   white_bgr=white_bgr)        \n",
    "        loss = ((Ax - c)**2).mean()\n",
    "        optim.zero_grad()\n",
    "        loss.backward()\n",
    "        optim.step()\n",
    "        loss_history.append(loss.item())\n",
    "        avg_loss += loss.item()\n",
    "    print(f\"Epoch: {e}: avg_loss: {avg_loss/ len(dataloader_train)}\")\n",
    "    scheduler.step()\n",
    "    modelpath = osp.join(sess.sess_dir, f'model_{obj}-epoch{e+1}.pth')\n",
    "    torch.save(model.cpu(), modelpath)\n",
    "    model.to(device)\n",
    "    test(sess, model, test_ids, tn, tf, num_bins, directional_input, white_bgr, e)\n",
    "    \n"
   ]
  },
  {
   "cell_type": "code",
   "execution_count": null,
   "id": "cc2ba633-daa5-434a-8902-2e0d71c11815",
   "metadata": {
    "tags": []
   },
   "outputs": [],
   "source": [
    "plt.plot(loss_history)"
   ]
  },
  {
   "cell_type": "markdown",
   "id": "c224e29a-755e-4bca-8fed-24fdb979a6c6",
   "metadata": {
    "tags": []
   },
   "source": [
    "# Train Lego 400x400\n"
   ]
  },
  {
   "cell_type": "markdown",
   "id": "9d85b604-6845-42df-8550-c662e19dd8d9",
   "metadata": {},
   "source": [
    "## Load the Lego Dataset"
   ]
  },
  {
   "cell_type": "code",
   "execution_count": 11,
   "id": "b62bd2d2-fe50-4263-8a4f-40cd48077e94",
   "metadata": {
    "tags": []
   },
   "outputs": [],
   "source": [
    "obj = \"lego\"\n",
    "root = f\"../assets/{obj}\"\n",
    "\n",
    "train_data = torch.from_numpy(np.load(osp.join(root, \"training_data.pkl\"), allow_pickle=True)).to(device)\n",
    "test_data = torch.from_numpy(np.load(osp.join(root, \"testing_data.pkl\"), allow_pickle=True)).to(device)"
   ]
  },
  {
   "cell_type": "markdown",
   "id": "9d0147b9-9a82-4385-9fc8-9c55a53b854c",
   "metadata": {},
   "source": [
    "## Trainining loop"
   ]
  },
  {
   "cell_type": "markdown",
   "id": "5f2ae164-ecf7-4384-ad53-990d48547b8a",
   "metadata": {},
   "source": [
    "### Initialize dataloader"
   ]
  },
  {
   "cell_type": "code",
   "execution_count": 12,
   "id": "321f85dd-299d-4d2d-9fd5-350b02fd560e",
   "metadata": {
    "tags": []
   },
   "outputs": [],
   "source": [
    "from src.utils.dataset.fox_dataset import FoxDataset\n",
    "from torch.utils.data import DataLoader\n",
    "from tqdm import tqdm\n",
    "\n",
    "batch_size = 2**12\n",
    "\n",
    "dataloader_warmup = DataLoader(train_data, batch_size=batch_size, shuffle=True)\n",
    "dataloader_train = DataLoader(train_data, batch_size=batch_size, shuffle=True)"
   ]
  },
  {
   "cell_type": "markdown",
   "id": "52a78e1d-8ffd-4c81-9b65-2fd2249cad66",
   "metadata": {},
   "source": [
    "### Define hyper-params"
   ]
  },
  {
   "cell_type": "code",
   "execution_count": 13,
   "id": "5dd97eb9-99f7-4ab5-a241-e2aeb6fcb56d",
   "metadata": {
    "tags": []
   },
   "outputs": [],
   "source": [
    "H, W = 400, 400\n",
    "\n",
    "## Model hyperparams\n",
    "L = 16\n",
    "T = 2 ** 14\n",
    "F = 2\n",
    "Nmin = 16\n",
    "Nmax = 512\n",
    "sph_coeff = 4\n",
    "hidden_dim = 64\n",
    "\n",
    "### RENDERING HYPERARAMS\n",
    "\n",
    "tn = 2.\n",
    "tf = 6.\n",
    "num_bins = 192\n",
    "directional_input=True\n",
    "white_bgr=True\n",
    "\n",
    "###  TRAINING\n",
    "num_epochs= 50\n",
    "warmup_epochs = 1\n",
    "lr = 1e-2\n",
    "\n",
    "## TESTING\n",
    "test_ids  = [1,2,3, 4 ,5]"
   ]
  },
  {
   "cell_type": "code",
   "execution_count": 14,
   "id": "c772f418-9dcd-490a-b26e-f68ed9c05d6b",
   "metadata": {
    "tags": []
   },
   "outputs": [
    {
     "data": {
      "text/plain": [
       "91.2"
      ]
     },
     "execution_count": 14,
     "metadata": {},
     "output_type": "execute_result"
    }
   ],
   "source": [
    "2280/25"
   ]
  },
  {
   "cell_type": "code",
   "execution_count": null,
   "id": "d078e096-f066-4ecd-afef-2f5adc2aaee3",
   "metadata": {},
   "outputs": [],
   "source": []
  },
  {
   "cell_type": "markdown",
   "id": "6cc7b068-468a-4815-9976-4b1aea7857f4",
   "metadata": {},
   "source": [
    "### Optimization"
   ]
  },
  {
   "cell_type": "code",
   "execution_count": 15,
   "id": "081c3801-b973-4477-a54d-9209411f1994",
   "metadata": {
    "tags": []
   },
   "outputs": [
    {
     "name": "stdout",
     "output_type": "stream",
     "text": [
      "Starting warm-up\n"
     ]
    },
    {
     "name": "stderr",
     "output_type": "stream",
     "text": [
      "  1%|▊                                                                                                     | 33/3907 [00:11<23:03,  2.80it/s]\n"
     ]
    },
    {
     "ename": "KeyboardInterrupt",
     "evalue": "",
     "output_type": "error",
     "traceback": [
      "\u001b[0;31m---------------------------------------------------------------------------\u001b[0m",
      "\u001b[0;31mKeyboardInterrupt\u001b[0m                         Traceback (most recent call last)",
      "Cell \u001b[0;32mIn[15], line 57\u001b[0m\n\u001b[1;32m     55\u001b[0m d \u001b[38;5;241m=\u001b[39m batch[:, \u001b[38;5;241m3\u001b[39m:\u001b[38;5;241m6\u001b[39m]\n\u001b[1;32m     56\u001b[0m c \u001b[38;5;241m=\u001b[39m batch[:, \u001b[38;5;241m6\u001b[39m:]\n\u001b[0;32m---> 57\u001b[0m Ax \u001b[38;5;241m=\u001b[39m \u001b[43mrender_with_perturbation\u001b[49m\u001b[43m(\u001b[49m\u001b[43mmodel\u001b[49m\u001b[43m,\u001b[49m\u001b[43m \u001b[49m\u001b[43mo\u001b[49m\u001b[43m,\u001b[49m\u001b[43m \u001b[49m\u001b[43md\u001b[49m\u001b[43m,\u001b[49m\u001b[43m \u001b[49m\u001b[43mtn\u001b[49m\u001b[43m,\u001b[49m\u001b[43m \u001b[49m\u001b[43mtf\u001b[49m\u001b[43m,\u001b[49m\u001b[43m \u001b[49m\u001b[43mnum_bins\u001b[49m\u001b[43m,\u001b[49m\u001b[43m \u001b[49m\u001b[43mdevice\u001b[49m\u001b[38;5;241;43m=\u001b[39;49m\u001b[43mdevice\u001b[49m\u001b[43m,\u001b[49m\u001b[43m \u001b[49m\n\u001b[1;32m     58\u001b[0m \u001b[43m            \u001b[49m\u001b[43mdirectional_input\u001b[49m\u001b[38;5;241;43m=\u001b[39;49m\u001b[43mdirectional_input\u001b[49m\u001b[43m,\u001b[49m\u001b[43mwhite_bgr\u001b[49m\u001b[38;5;241;43m=\u001b[39;49m\u001b[43mwhite_bgr\u001b[49m\u001b[43m)\u001b[49m        \n\u001b[1;32m     59\u001b[0m loss \u001b[38;5;241m=\u001b[39m ((Ax \u001b[38;5;241m-\u001b[39m c)\u001b[38;5;241m*\u001b[39m\u001b[38;5;241m*\u001b[39m\u001b[38;5;241m2\u001b[39m)\u001b[38;5;241m.\u001b[39mmean()\n\u001b[1;32m     60\u001b[0m optim\u001b[38;5;241m.\u001b[39mzero_grad()\n",
      "Cell \u001b[0;32mIn[9], line 39\u001b[0m, in \u001b[0;36mrender_with_perturbation\u001b[0;34m(model, rays_o, rays_d, tn, tf, num_bins, device, directional_input, white_bgr)\u001b[0m\n\u001b[1;32m     37\u001b[0m r \u001b[38;5;241m=\u001b[39m rays_o\u001b[38;5;241m.\u001b[39munsqueeze(\u001b[38;5;241m1\u001b[39m) \u001b[38;5;241m+\u001b[39m t\u001b[38;5;241m.\u001b[39munsqueeze(\u001b[38;5;241m2\u001b[39m) \u001b[38;5;241m*\u001b[39m rays_d\u001b[38;5;241m.\u001b[39munsqueeze(\u001b[38;5;241m1\u001b[39m)  \u001b[38;5;66;03m# [batch_size, nb_bins, 3]\u001b[39;00m\n\u001b[1;32m     38\u001b[0m \u001b[38;5;28;01mif\u001b[39;00m directional_input:\n\u001b[0;32m---> 39\u001b[0m     colors, density \u001b[38;5;241m=\u001b[39m \u001b[43mmodel\u001b[49m\u001b[38;5;241;43m.\u001b[39;49m\u001b[43mintersect\u001b[49m\u001b[43m(\u001b[49m\u001b[43mr\u001b[49m\u001b[38;5;241;43m.\u001b[39;49m\u001b[43mreshape\u001b[49m\u001b[43m(\u001b[49m\u001b[38;5;241;43m-\u001b[39;49m\u001b[38;5;241;43m1\u001b[39;49m\u001b[43m,\u001b[49m\u001b[43m \u001b[49m\u001b[38;5;241;43m3\u001b[39;49m\u001b[43m)\u001b[49m\u001b[43m,\u001b[49m\n\u001b[1;32m     40\u001b[0m \u001b[43m                                      \u001b[49m\u001b[43mrays_d\u001b[49m\u001b[38;5;241;43m.\u001b[39;49m\u001b[43mexpand\u001b[49m\u001b[43m(\u001b[49m\u001b[43mnum_bins\u001b[49m\u001b[43m,\u001b[49m\u001b[43m \u001b[49m\u001b[43mnum_points\u001b[49m\u001b[43m,\u001b[49m\u001b[43m \u001b[49m\u001b[38;5;241;43m3\u001b[39;49m\u001b[43m)\u001b[49m\u001b[38;5;241;43m.\u001b[39;49m\u001b[43mtranspose\u001b[49m\u001b[43m(\u001b[49m\u001b[38;5;241;43m0\u001b[39;49m\u001b[43m,\u001b[49m\u001b[43m \u001b[49m\u001b[38;5;241;43m1\u001b[39;49m\u001b[43m)\u001b[49m\u001b[38;5;241;43m.\u001b[39;49m\u001b[43mreshape\u001b[49m\u001b[43m(\u001b[49m\u001b[38;5;241;43m-\u001b[39;49m\u001b[38;5;241;43m1\u001b[39;49m\u001b[43m,\u001b[49m\u001b[43m \u001b[49m\u001b[38;5;241;43m3\u001b[39;49m\u001b[43m)\u001b[49m\u001b[43m)\u001b[49m\n\u001b[1;32m     41\u001b[0m \u001b[38;5;28;01melse\u001b[39;00m:\n\u001b[1;32m     42\u001b[0m     colors, density \u001b[38;5;241m=\u001b[39m model\u001b[38;5;241m.\u001b[39mintersect(r\u001b[38;5;241m.\u001b[39mreshape(\u001b[38;5;241m-\u001b[39m\u001b[38;5;241m1\u001b[39m, \u001b[38;5;241m3\u001b[39m))\n",
      "Cell \u001b[0;32mIn[7], line 45\u001b[0m, in \u001b[0;36mNGP_MLP.intersect\u001b[0;34m(self, xyz_p, xyz_d)\u001b[0m\n\u001b[1;32m     44\u001b[0m \u001b[38;5;28;01mdef\u001b[39;00m \u001b[38;5;21mintersect\u001b[39m(\u001b[38;5;28mself\u001b[39m, xyz_p, xyz_d):\n\u001b[0;32m---> 45\u001b[0m     \u001b[38;5;28;01mreturn\u001b[39;00m \u001b[38;5;28;43mself\u001b[39;49m\u001b[38;5;241;43m.\u001b[39;49m\u001b[43mforward\u001b[49m\u001b[43m(\u001b[49m\u001b[43mxyz_p\u001b[49m\u001b[43m,\u001b[49m\u001b[43m \u001b[49m\u001b[43mxyz_d\u001b[49m\u001b[43m)\u001b[49m\n",
      "Cell \u001b[0;32mIn[7], line 36\u001b[0m, in \u001b[0;36mNGP_MLP.forward\u001b[0;34m(self, xyz_p, xyz_d)\u001b[0m\n\u001b[1;32m     30\u001b[0m \u001b[38;5;28;01mdef\u001b[39;00m \u001b[38;5;21mforward\u001b[39m(\u001b[38;5;28mself\u001b[39m, xyz_p, xyz_d):\n\u001b[1;32m     31\u001b[0m \u001b[38;5;250m    \u001b[39m\u001b[38;5;124;03m\"\"\"\u001b[39;00m\n\u001b[1;32m     32\u001b[0m \u001b[38;5;124;03m    xyz_p: N, 3 points sampled\u001b[39;00m\n\u001b[1;32m     33\u001b[0m \u001b[38;5;124;03m    xyz_d: N, 3 direction vectors. Make sure, they are normalized\u001b[39;00m\n\u001b[1;32m     34\u001b[0m \u001b[38;5;124;03m    \"\"\"\u001b[39;00m\n\u001b[0;32m---> 36\u001b[0m     xyz_p_em \u001b[38;5;241m=\u001b[39m \u001b[38;5;28;43mself\u001b[39;49m\u001b[38;5;241;43m.\u001b[39;49m\u001b[43mmrhe\u001b[49m\u001b[43m(\u001b[49m\u001b[43mxyz_p\u001b[49m\u001b[43m)\u001b[49m\u001b[38;5;241m.\u001b[39mto(\u001b[38;5;28mself\u001b[39m\u001b[38;5;241m.\u001b[39mdevice)\n\u001b[1;32m     37\u001b[0m     xyz_d_em \u001b[38;5;241m=\u001b[39m components_from_spherical_harmonics(\u001b[38;5;28mself\u001b[39m\u001b[38;5;241m.\u001b[39msph_coeff, xyz_d)\u001b[38;5;241m.\u001b[39mto(\u001b[38;5;28mself\u001b[39m\u001b[38;5;241m.\u001b[39mdevice)\n\u001b[1;32m     39\u001b[0m     out \u001b[38;5;241m=\u001b[39m \u001b[38;5;28mself\u001b[39m\u001b[38;5;241m.\u001b[39msigma_block(xyz_p_em)\n",
      "File \u001b[0;32m~/projects/nerf/.venv/lib/python3.8/site-packages/torch/nn/modules/module.py:1194\u001b[0m, in \u001b[0;36mModule._call_impl\u001b[0;34m(self, *input, **kwargs)\u001b[0m\n\u001b[1;32m   1190\u001b[0m \u001b[38;5;66;03m# If we don't have any hooks, we want to skip the rest of the logic in\u001b[39;00m\n\u001b[1;32m   1191\u001b[0m \u001b[38;5;66;03m# this function, and just call forward.\u001b[39;00m\n\u001b[1;32m   1192\u001b[0m \u001b[38;5;28;01mif\u001b[39;00m \u001b[38;5;129;01mnot\u001b[39;00m (\u001b[38;5;28mself\u001b[39m\u001b[38;5;241m.\u001b[39m_backward_hooks \u001b[38;5;129;01mor\u001b[39;00m \u001b[38;5;28mself\u001b[39m\u001b[38;5;241m.\u001b[39m_forward_hooks \u001b[38;5;129;01mor\u001b[39;00m \u001b[38;5;28mself\u001b[39m\u001b[38;5;241m.\u001b[39m_forward_pre_hooks \u001b[38;5;129;01mor\u001b[39;00m _global_backward_hooks\n\u001b[1;32m   1193\u001b[0m         \u001b[38;5;129;01mor\u001b[39;00m _global_forward_hooks \u001b[38;5;129;01mor\u001b[39;00m _global_forward_pre_hooks):\n\u001b[0;32m-> 1194\u001b[0m     \u001b[38;5;28;01mreturn\u001b[39;00m \u001b[43mforward_call\u001b[49m\u001b[43m(\u001b[49m\u001b[38;5;241;43m*\u001b[39;49m\u001b[38;5;28;43minput\u001b[39;49m\u001b[43m,\u001b[49m\u001b[43m \u001b[49m\u001b[38;5;241;43m*\u001b[39;49m\u001b[38;5;241;43m*\u001b[39;49m\u001b[43mkwargs\u001b[49m\u001b[43m)\u001b[49m\n\u001b[1;32m   1195\u001b[0m \u001b[38;5;66;03m# Do not call functions when jit is used\u001b[39;00m\n\u001b[1;32m   1196\u001b[0m full_backward_hooks, non_full_backward_hooks \u001b[38;5;241m=\u001b[39m [], []\n",
      "Cell \u001b[0;32mIn[5], line 33\u001b[0m, in \u001b[0;36mMultiResHashEncoding.forward\u001b[0;34m(self, xyz_p)\u001b[0m\n\u001b[1;32m     28\u001b[0m \u001b[38;5;250m\u001b[39m\u001b[38;5;124;03m\"\"\"\u001b[39;00m\n\u001b[1;32m     29\u001b[0m \u001b[38;5;124;03mxyz_p: ray points\u001b[39;00m\n\u001b[1;32m     30\u001b[0m \u001b[38;5;124;03mxyz_d: ray_directions\u001b[39;00m\n\u001b[1;32m     31\u001b[0m \u001b[38;5;124;03m\"\"\"\u001b[39;00m\n\u001b[1;32m     32\u001b[0m \u001b[38;5;66;03m# tic = time.time()\u001b[39;00m\n\u001b[0;32m---> 33\u001b[0m xyz_en \u001b[38;5;241m=\u001b[39m \u001b[38;5;28;43mself\u001b[39;49m\u001b[38;5;241;43m.\u001b[39;49m\u001b[43mget_multires_hash_encoding\u001b[49m\u001b[43m(\u001b[49m\u001b[43mxyz_p\u001b[49m\u001b[43m)\u001b[49m\n\u001b[1;32m     34\u001b[0m \u001b[38;5;66;03m# toc = time.time()\u001b[39;00m\n\u001b[1;32m     35\u001b[0m \u001b[38;5;66;03m# print(f\"MHRE time: {(toc - tic)* 1000} ms\")\u001b[39;00m\n\u001b[1;32m     36\u001b[0m \u001b[38;5;28;01mreturn\u001b[39;00m xyz_en\n",
      "Cell \u001b[0;32mIn[5], line 52\u001b[0m, in \u001b[0;36mMultiResHashEncoding.get_multires_hash_encoding\u001b[0;34m(self, pts)\u001b[0m\n\u001b[1;32m     49\u001b[0m cpL \u001b[38;5;241m=\u001b[39m torch\u001b[38;5;241m.\u001b[39mceil(pL)  \u001b[38;5;66;03m# Bs, 3\u001b[39;00m\n\u001b[1;32m     51\u001b[0m \u001b[38;5;66;03m# Find 8 neighbours of the point in 3D grid\u001b[39;00m\n\u001b[0;32m---> 52\u001b[0m nbrs \u001b[38;5;241m=\u001b[39m \u001b[38;5;28;43mself\u001b[39;49m\u001b[38;5;241;43m.\u001b[39;49m\u001b[43mget_neighbours\u001b[49m\u001b[43m(\u001b[49m\u001b[43mfpL\u001b[49m\u001b[43m,\u001b[49m\u001b[43m \u001b[49m\u001b[43mcpL\u001b[49m\u001b[43m)\u001b[49m            \u001b[38;5;66;03m# Nbrs: Bs, 8, 3\u001b[39;00m\n\u001b[1;32m     53\u001b[0m \u001b[38;5;66;03m# print(f\"neigbors: {nbrs.shape}\")\u001b[39;00m\n\u001b[1;32m     54\u001b[0m \n\u001b[1;32m     55\u001b[0m \u001b[38;5;66;03m# find distance from each of these neighbours\u001b[39;00m\n\u001b[1;32m     56\u001b[0m dist \u001b[38;5;241m=\u001b[39m (nbrs \u001b[38;5;241m-\u001b[39m pts\u001b[38;5;241m.\u001b[39munsqueeze(\u001b[38;5;241m1\u001b[39m))\u001b[38;5;241m.\u001b[39mnorm(dim\u001b[38;5;241m=\u001b[39m\u001b[38;5;241m-\u001b[39m\u001b[38;5;241m1\u001b[39m)   \u001b[38;5;66;03m# Dist: Bs, 8\u001b[39;00m\n",
      "Cell \u001b[0;32mIn[5], line 76\u001b[0m, in \u001b[0;36mMultiResHashEncoding.get_neighbours\u001b[0;34m(self, fpL, cpL)\u001b[0m\n\u001b[1;32m     74\u001b[0m \u001b[38;5;28;01mdef\u001b[39;00m \u001b[38;5;21mget_neighbours\u001b[39m(\u001b[38;5;28mself\u001b[39m, fpL, cpL):\n\u001b[1;32m     75\u001b[0m     neighbours \u001b[38;5;241m=\u001b[39m torch\u001b[38;5;241m.\u001b[39mzeros((fpL\u001b[38;5;241m.\u001b[39mshape[\u001b[38;5;241m0\u001b[39m], \u001b[38;5;241m8\u001b[39m, \u001b[38;5;241m3\u001b[39m), device\u001b[38;5;241m=\u001b[39m\u001b[38;5;28mself\u001b[39m\u001b[38;5;241m.\u001b[39mdevice)\n\u001b[0;32m---> 76\u001b[0m     idxs \u001b[38;5;241m=\u001b[39m \u001b[43mtorch\u001b[49m\u001b[38;5;241;43m.\u001b[39;49m\u001b[43mtensor\u001b[49m\u001b[43m(\u001b[49m\u001b[43m[\u001b[49m\u001b[43m[\u001b[49m\u001b[38;5;241;43m0\u001b[39;49m\u001b[43m,\u001b[49m\u001b[38;5;241;43m0\u001b[39;49m\u001b[43m,\u001b[49m\u001b[38;5;241;43m0\u001b[39;49m\u001b[43m]\u001b[49m\u001b[43m,\u001b[49m\n\u001b[1;32m     77\u001b[0m \u001b[43m                         \u001b[49m\u001b[43m[\u001b[49m\u001b[38;5;241;43m0\u001b[39;49m\u001b[43m,\u001b[49m\u001b[38;5;241;43m0\u001b[39;49m\u001b[43m,\u001b[49m\u001b[38;5;241;43m1\u001b[39;49m\u001b[43m]\u001b[49m\u001b[43m,\u001b[49m\n\u001b[1;32m     78\u001b[0m \u001b[43m                         \u001b[49m\u001b[43m[\u001b[49m\u001b[38;5;241;43m0\u001b[39;49m\u001b[43m,\u001b[49m\u001b[38;5;241;43m1\u001b[39;49m\u001b[43m,\u001b[49m\u001b[38;5;241;43m0\u001b[39;49m\u001b[43m]\u001b[49m\u001b[43m,\u001b[49m\n\u001b[1;32m     79\u001b[0m \u001b[43m                         \u001b[49m\u001b[43m[\u001b[49m\u001b[38;5;241;43m0\u001b[39;49m\u001b[43m,\u001b[49m\u001b[38;5;241;43m1\u001b[39;49m\u001b[43m,\u001b[49m\u001b[38;5;241;43m1\u001b[39;49m\u001b[43m]\u001b[49m\u001b[43m,\u001b[49m\n\u001b[1;32m     80\u001b[0m \u001b[43m                         \u001b[49m\u001b[43m[\u001b[49m\u001b[38;5;241;43m1\u001b[39;49m\u001b[43m,\u001b[49m\u001b[38;5;241;43m0\u001b[39;49m\u001b[43m,\u001b[49m\u001b[38;5;241;43m0\u001b[39;49m\u001b[43m]\u001b[49m\u001b[43m,\u001b[49m\n\u001b[1;32m     81\u001b[0m \u001b[43m                         \u001b[49m\u001b[43m[\u001b[49m\u001b[38;5;241;43m1\u001b[39;49m\u001b[43m,\u001b[49m\u001b[38;5;241;43m0\u001b[39;49m\u001b[43m,\u001b[49m\u001b[38;5;241;43m1\u001b[39;49m\u001b[43m]\u001b[49m\u001b[43m,\u001b[49m\n\u001b[1;32m     82\u001b[0m \u001b[43m                         \u001b[49m\u001b[43m[\u001b[49m\u001b[38;5;241;43m1\u001b[39;49m\u001b[43m,\u001b[49m\u001b[38;5;241;43m1\u001b[39;49m\u001b[43m,\u001b[49m\u001b[38;5;241;43m0\u001b[39;49m\u001b[43m]\u001b[49m\u001b[43m,\u001b[49m\n\u001b[1;32m     83\u001b[0m \u001b[43m                         \u001b[49m\u001b[43m[\u001b[49m\u001b[38;5;241;43m1\u001b[39;49m\u001b[43m,\u001b[49m\u001b[38;5;241;43m1\u001b[39;49m\u001b[43m,\u001b[49m\u001b[38;5;241;43m1\u001b[39;49m\u001b[43m]\u001b[49m\u001b[43m,\u001b[49m\n\u001b[1;32m     84\u001b[0m \u001b[43m                        \u001b[49m\u001b[43m]\u001b[49m\u001b[43m,\u001b[49m\u001b[43m \u001b[49m\u001b[43mdevice\u001b[49m\u001b[38;5;241;43m=\u001b[39;49m\u001b[38;5;28;43mself\u001b[39;49m\u001b[38;5;241;43m.\u001b[39;49m\u001b[43mdevice\u001b[49m\u001b[43m)\u001b[49m\n\u001b[1;32m     85\u001b[0m     \u001b[38;5;66;03m# Expand the dimensions of fpL and cpL to match the shape of idxs\u001b[39;00m\n\u001b[1;32m     86\u001b[0m     expanded_fpL \u001b[38;5;241m=\u001b[39m fpL[:, \u001b[38;5;28;01mNone\u001b[39;00m, :]\n",
      "\u001b[0;31mKeyboardInterrupt\u001b[0m: "
     ]
    }
   ],
   "source": [
    "\n",
    "\n",
    "loss_history = []\n",
    "\n",
    "model = NGP_MLP( L, T, F, Nmin, Nmax, sph_coeff, hidden_dim, device=device)\n",
    "optim = torch.optim.Adam(params=model.parameters(), lr=lr, eps=1e-15)\n",
    "scheduler = torch.optim.lr_scheduler.MultiStepLR(optim, milestones=[2,4,8, 10, 12, 14], gamma=0.5)\n",
    "\n",
    "## START A NEW SESSION\n",
    "sess = generate_new_session(\"/home/ayush/projects/nerf/model_checkpoints/ingp\", obj)\n",
    "\n",
    "\n",
    "\n",
    "################################## TEST ON SOME IMAGES\n",
    "\n",
    "def get_mse_and_psnr(gt, pr):\n",
    "    mse = ((gt - pr)**2).mean()\n",
    "    psnr = 20 * np.log10(1 / np.sqrt(mse))\n",
    "    return psnr, mse\n",
    "\n",
    "def test(session, model, dataset, test_ids, tn, tf, num_bins, H, W, directional_input, white_bgr, epoch):\n",
    "    with torch.no_grad():\n",
    "        for tid in test_ids:\n",
    "            \n",
    "            o_ = dataset[tid * H * W: (tid+1) * H * W, :3]\n",
    "            d_ = dataset[tid * H * W: (tid+1) * H * W, 3:6]\n",
    "            im = dataset[tid * H * W: (tid+1) * H * W, 6:]\n",
    "            Ax = batchify_image_and_render(model=model,\n",
    "                                   rays_o=o_,\n",
    "                                   rays_d=d_,\n",
    "                                   tn=tn,\n",
    "                                   tf=tf,\n",
    "                                   num_bins=num_bins,\n",
    "                                   reduction_factor=128,\n",
    "                                   device=device,\n",
    "                                   directional_input=directional_input,\n",
    "                                   white_bgr=white_bgr)\n",
    "            psnr, mse = get_mse_and_psnr(im.cpu().numpy(), Ax)\n",
    "            print(f\"Test IDs: {tid}       | PSNR: {psnr: .3f} | MSE :{mse: .3f}\")\n",
    "            Ax = (Ax.reshape(H, W, 3) * 255).astype(np.uint8)\n",
    "            imdir = osp.join(session.sess_dir, f\"epoch_{epoch}\")\n",
    "            if not osp.exists(imdir):\n",
    "                os.makedirs(imdir)\n",
    "            impath = osp.join(imdir, f\"epoch-{epoch}--image-{tid}.png\")\n",
    "            cv2.imwrite(impath, cv2.cvtColor(Ax, cv2.COLOR_RGB2BGR))\n",
    "\n",
    "############################## WARM UP TRAINING : \n",
    "##################Train on center part of image (Needed for synthetic dataset  ####################\n",
    "\n",
    "print(\"Starting warm-up\")\n",
    "for e in range(warmup_epochs):\n",
    "    avg_loss = 0.\n",
    "    for batch in tqdm(dataloader_warmup):\n",
    "        BS = batch.shape[0]\n",
    "        batch = batch.reshape(-1, 9)\n",
    "        o = batch[:, 0:3]\n",
    "        d = batch[:, 3:6]\n",
    "        c = batch[:, 6:]\n",
    "        Ax = render_with_perturbation(model, o, d, tn, tf, num_bins, device=device, \n",
    "                    directional_input=directional_input,white_bgr=white_bgr)        \n",
    "        loss = ((Ax - c)**2).mean()\n",
    "        optim.zero_grad()\n",
    "        loss.backward()\n",
    "        optim.step()\n",
    "        loss_history.append(loss.item())\n",
    "        avg_loss += loss.item()\n",
    "    print(f\"Epoch: {e+1}: avg_loss: {avg_loss/ len(dataloader_warmup)}\")\n",
    "    modelpath = osp.join(sess.sess_dir, f'model_{obj}-warmup.pth')\n",
    "    torch.save(model.cpu(), modelpath)\n",
    "    model.to(device)\n",
    "    test(sess, model, test_data, test_ids, tn, tf, num_bins, H, W, directional_input, white_bgr, \"warmup\")\n",
    "    plt.plot(loss_history)\n",
    "    plt.show()\n",
    "\n",
    "####################  MAIN TRAINING LOOP\n",
    "    \n",
    "print(\"--------------------------------------\")\n",
    "print(\"\\nStarting main process\")\n",
    "for e in range(num_epochs):\n",
    "    avg_loss = 0.\n",
    "    for batch in tqdm(dataloader_train): \n",
    "        BS = batch.shape[0]\n",
    "        batch = batch.reshape(-1, 9)\n",
    "        o = batch[:, 0:3]\n",
    "        d = batch[:, 3:6]\n",
    "        c = batch[:, 6:]\n",
    "        Ax = render_with_perturbation(model, o, d, tn, tf, num_bins, \n",
    "                                      directional_input=directional_input, device=device, white_bgr=True)        \n",
    "        loss = ((Ax - c)**2).mean()\n",
    "        optim.zero_grad()\n",
    "        loss.backward()\n",
    "        optim.step()\n",
    "        loss_history.append(loss.item())\n",
    "        avg_loss += loss.item()\n",
    "    print(f\"Epoch: {e+1}  | avg_loss: {avg_loss/ len(dataloader_train)}  |   lr: {optim.param_groups[0]['lr']}\")\n",
    "    scheduler.step()\n",
    "    modelpath = osp.join(sess.sess_dir, f'model_{obj}-epoch{e+1}.pth')\n",
    "    torch.save(model.cpu(), modelpath)\n",
    "    model.to(device)\n",
    "    test(sess, model, test_data, test_ids, tn, tf, num_bins, H, W, directional_input, white_bgr, e)\n",
    "    plt.plot(loss_history)\n",
    "    plt.show()\n",
    "    \n"
   ]
  },
  {
   "cell_type": "code",
   "execution_count": 27,
   "id": "8102aef1-8f29-4f07-9c83-2d10e695a720",
   "metadata": {
    "tags": []
   },
   "outputs": [
    {
     "name": "stdout",
     "output_type": "stream",
     "text": [
      "Current learning rate: 0.0025\n"
     ]
    }
   ],
   "source": [
    "learning_rate = optim.param_groups[0]['lr']\n",
    "print(\"Current learning rate:\", learning_rate)"
   ]
  },
  {
   "cell_type": "markdown",
   "id": "3cbfcd30-d1a2-47c3-8c31-96baf90cc179",
   "metadata": {
    "jp-MarkdownHeadingCollapsed": true,
    "tags": []
   },
   "source": [
    "# Train Fox Dataset"
   ]
  },
  {
   "cell_type": "markdown",
   "id": "1a0070a9-28d0-47a7-9e19-23978c534616",
   "metadata": {},
   "source": [
    "## Load the fox dataset"
   ]
  },
  {
   "cell_type": "code",
   "execution_count": 207,
   "id": "46a11fea-dac7-47de-a73f-a40db4947599",
   "metadata": {
    "tags": []
   },
   "outputs": [],
   "source": [
    "obj = \"fox\"\n",
    "root = f\"../assets/{obj}\""
   ]
  },
  {
   "cell_type": "code",
   "execution_count": 208,
   "id": "03d26e17-6eed-4011-abd6-f47f4cf9e4fa",
   "metadata": {
    "tags": []
   },
   "outputs": [
    {
     "name": "stdout",
     "output_type": "stream",
     "text": [
      "(90, 400, 400, 3) (90, 4, 4) (90, 4, 4)\n"
     ]
    },
    {
     "data": {
      "text/plain": [
       "((90, 160000, 3), (90, 160000, 3))"
      ]
     },
     "execution_count": 208,
     "metadata": {},
     "output_type": "execute_result"
    }
   ],
   "source": [
    "from src.utils.dataset.fox_dataset import make_file_lists, parse_data, create_rays, FoxDataset\n",
    "\n",
    "\n",
    "\n",
    "fimgs, fposes, fintrinsics= make_file_lists(root, 'train')\n",
    "imgs, poses, intrinsics = parse_data(fimgs, fposes, fintrinsics)\n",
    "\n",
    "# small batch experiment\n",
    "N = len(imgs)\n",
    "o, d = [], []\n",
    "for i in range(N):\n",
    "    o_, d_ = create_rays(imgs[i], poses[i], intrinsics[i])\n",
    "    o.append(o_)\n",
    "    d.append(d_)\n",
    "o = np.array(o)\n",
    "d = np.array(d)\n",
    "o.shape, d.shape"
   ]
  },
  {
   "cell_type": "markdown",
   "id": "eca055f9-f052-40be-bc2f-3b171e6bc2e5",
   "metadata": {},
   "source": [
    "## Training Loop"
   ]
  },
  {
   "cell_type": "markdown",
   "id": "211caba2-3e61-4c4c-8a88-73e2b39a9db7",
   "metadata": {},
   "source": [
    "### Initialize Dataloader"
   ]
  },
  {
   "cell_type": "code",
   "execution_count": 209,
   "id": "b577ae30-6d34-43a0-a9ba-92124557f238",
   "metadata": {
    "tags": []
   },
   "outputs": [
    {
     "name": "stdout",
     "output_type": "stream",
     "text": [
      "Center region: Width 100: 300,  Height: 100: 300\n",
      "Final shapes: O:(3600000, 3), D:(3600000, 3), Imgs:(3600000, 3)\n",
      "Final concatenated shape: torch.Size([3600000, 9])\n",
      "Final shapes: O:(90, 160000, 3), D:(90, 160000, 3), Imgs:(90, 400, 400, 3)\n",
      "Final concatenated shape: torch.Size([14400000, 9])\n"
     ]
    }
   ],
   "source": [
    "from src.utils.dataset.fox_dataset import FoxDataset\n",
    "from torch.utils.data import DataLoader\n",
    "from tqdm import tqdm\n",
    "\n",
    "batch_size = 1024\n",
    "dataset_warmup = FoxDataset(imgs, poses, intrinsics, mode='warm-up', device=device)\n",
    "dataloader_warmup = DataLoader(dataset_warmup, batch_size=batch_size, shuffle=True)\n",
    "\n",
    "dataset = FoxDataset(imgs, poses, intrinsics, mode='train', device=device)\n",
    "dataloader = DataLoader(dataset, batch_size=batch_size, shuffle=True)"
   ]
  },
  {
   "cell_type": "markdown",
   "id": "efcd5a96-a25e-461f-9517-967aa37011ae",
   "metadata": {},
   "source": [
    "### Define Hyper parameters"
   ]
  },
  {
   "cell_type": "code",
   "execution_count": 215,
   "id": "e4a6114d-af16-4670-8ada-46f515fa80ca",
   "metadata": {
    "tags": []
   },
   "outputs": [],
   "source": [
    "## Data relaed\n",
    "\n",
    "obj = \"fox\"\n",
    "\n",
    "## Model hyperparams\n",
    "L = 16\n",
    "T = 2 ** 14\n",
    "F = 2\n",
    "Nmin = 16\n",
    "Nmax = 512\n",
    "sph_coeff = 4\n",
    "hidden_dim = 64\n",
    "\n",
    "### RENDERING HYPERARAMS\n",
    "\n",
    "tn = 8.\n",
    "tf = 12.\n",
    "num_bins = 100\n",
    "directional_input=True\n",
    "white_bgr=True\n",
    "\n",
    "###  TRAINING\n",
    "num_epochs= 30\n",
    "warmup_epochs = 1\n",
    "lr = 1e-3\n",
    "\n",
    "## TESTING\n",
    "test_ids  = np.random.randint(low=0, high=N, size=(5,))"
   ]
  },
  {
   "cell_type": "markdown",
   "id": "765827c8-2ddc-46d8-a523-1937b59778cb",
   "metadata": {},
   "source": [
    "### Optimization"
   ]
  },
  {
   "cell_type": "code",
   "execution_count": 268,
   "id": "470491df-54d6-4830-93c6-51966cde972a",
   "metadata": {
    "tags": []
   },
   "outputs": [
    {
     "name": "stdout",
     "output_type": "stream",
     "text": [
      "Starting warm-up\n"
     ]
    },
    {
     "name": "stderr",
     "output_type": "stream",
     "text": [
      "100%|████████████████████████████████████████████████████████████████████████████████████████████████████| 3516/3516 [02:55<00:00, 20.07it/s]\n"
     ]
    },
    {
     "name": "stdout",
     "output_type": "stream",
     "text": [
      "Epoch: 1: avg_loss: 0.18664096632338764\n",
      "Test IDs: 19       | PSNR:  12.184 | MSE : 0.060\n",
      "Test IDs: 48       | PSNR:  11.898 | MSE : 0.065\n",
      "Test IDs: 18       | PSNR:  12.198 | MSE : 0.060\n",
      "Test IDs: 42       | PSNR:  12.571 | MSE : 0.055\n",
      "Test IDs: 3       | PSNR:  12.816 | MSE : 0.052\n"
     ]
    },
    {
     "data": {
      "image/png": "[encoded data removed]",
      "text/plain": [
       "<Figure size 640x480 with 1 Axes>"
      ]
     },
     "metadata": {},
     "output_type": "display_data"
    },
    {
     "name": "stdout",
     "output_type": "stream",
     "text": [
      "--------------------------------------\n",
      "\n",
      "Starting main process\n"
     ]
    },
    {
     "name": "stderr",
     "output_type": "stream",
     "text": [
      "  0%|                                                                                                              | 0/14063 [00:00<?, ?it/s]"
     ]
    },
    {
     "name": "stdout",
     "output_type": "stream",
     "text": [
      "cuda:0 cuda:0 cuda:0\n"
     ]
    },
    {
     "name": "stderr",
     "output_type": "stream",
     "text": [
      "\n"
     ]
    },
    {
     "ename": "TypeError",
     "evalue": "intersect() missing 1 required positional argument: 'xyz_d'",
     "output_type": "error",
     "traceback": [
      "\u001b[0;31m---------------------------------------------------------------------------\u001b[0m",
      "\u001b[0;31mTypeError\u001b[0m                                 Traceback (most recent call last)",
      "Cell \u001b[0;32mIn[268], line 85\u001b[0m\n\u001b[1;32m     83\u001b[0m c \u001b[38;5;241m=\u001b[39m batch[:, \u001b[38;5;241m6\u001b[39m:]\n\u001b[1;32m     84\u001b[0m \u001b[38;5;28mprint\u001b[39m(o\u001b[38;5;241m.\u001b[39mdevice, d\u001b[38;5;241m.\u001b[39mdevice, c\u001b[38;5;241m.\u001b[39mdevice)\n\u001b[0;32m---> 85\u001b[0m Ax \u001b[38;5;241m=\u001b[39m \u001b[43mrender_with_perturbation\u001b[49m\u001b[43m(\u001b[49m\u001b[43mmodel\u001b[49m\u001b[43m,\u001b[49m\u001b[43m \u001b[49m\u001b[43mo\u001b[49m\u001b[43m,\u001b[49m\u001b[43m \u001b[49m\u001b[43md\u001b[49m\u001b[43m,\u001b[49m\u001b[43m \u001b[49m\u001b[43mtn\u001b[49m\u001b[43m,\u001b[49m\u001b[43m \u001b[49m\u001b[43mtf\u001b[49m\u001b[43m,\u001b[49m\u001b[43m \u001b[49m\u001b[43mnum_bins\u001b[49m\u001b[43m,\u001b[49m\u001b[43m \u001b[49m\u001b[43mdirectional_input\u001b[49m\u001b[38;5;241;43m=\u001b[39;49m\u001b[38;5;28;43;01mFalse\u001b[39;49;00m\u001b[43m,\u001b[49m\u001b[43m \u001b[49m\u001b[43mdevice\u001b[49m\u001b[38;5;241;43m=\u001b[39;49m\u001b[43mdevice\u001b[49m\u001b[43m,\u001b[49m\u001b[43m \u001b[49m\u001b[43mwhite_bgr\u001b[49m\u001b[38;5;241;43m=\u001b[39;49m\u001b[38;5;28;43;01mTrue\u001b[39;49;00m\u001b[43m)\u001b[49m        \n\u001b[1;32m     86\u001b[0m loss \u001b[38;5;241m=\u001b[39m ((Ax \u001b[38;5;241m-\u001b[39m c)\u001b[38;5;241m*\u001b[39m\u001b[38;5;241m*\u001b[39m\u001b[38;5;241m2\u001b[39m)\u001b[38;5;241m.\u001b[39mmean()\n\u001b[1;32m     87\u001b[0m optim\u001b[38;5;241m.\u001b[39mzero_grad()\n",
      "Cell \u001b[0;32mIn[267], line 42\u001b[0m, in \u001b[0;36mrender_with_perturbation\u001b[0;34m(model, rays_o, rays_d, tn, tf, num_bins, device, directional_input, white_bgr)\u001b[0m\n\u001b[1;32m     39\u001b[0m     colors, density \u001b[38;5;241m=\u001b[39m model\u001b[38;5;241m.\u001b[39mintersect(r\u001b[38;5;241m.\u001b[39mreshape(\u001b[38;5;241m-\u001b[39m\u001b[38;5;241m1\u001b[39m, \u001b[38;5;241m3\u001b[39m),\n\u001b[1;32m     40\u001b[0m                                       rays_d\u001b[38;5;241m.\u001b[39mexpand(num_bins, num_points, \u001b[38;5;241m3\u001b[39m)\u001b[38;5;241m.\u001b[39mtranspose(\u001b[38;5;241m0\u001b[39m, \u001b[38;5;241m1\u001b[39m)\u001b[38;5;241m.\u001b[39mreshape(\u001b[38;5;241m-\u001b[39m\u001b[38;5;241m1\u001b[39m, \u001b[38;5;241m3\u001b[39m))\n\u001b[1;32m     41\u001b[0m \u001b[38;5;28;01melse\u001b[39;00m:\n\u001b[0;32m---> 42\u001b[0m     colors, density \u001b[38;5;241m=\u001b[39m \u001b[43mmodel\u001b[49m\u001b[38;5;241;43m.\u001b[39;49m\u001b[43mintersect\u001b[49m\u001b[43m(\u001b[49m\u001b[43mr\u001b[49m\u001b[38;5;241;43m.\u001b[39;49m\u001b[43mreshape\u001b[49m\u001b[43m(\u001b[49m\u001b[38;5;241;43m-\u001b[39;49m\u001b[38;5;241;43m1\u001b[39;49m\u001b[43m,\u001b[49m\u001b[43m \u001b[49m\u001b[38;5;241;43m3\u001b[39;49m\u001b[43m)\u001b[49m\u001b[43m)\u001b[49m\n\u001b[1;32m     44\u001b[0m density \u001b[38;5;241m=\u001b[39m density\u001b[38;5;241m.\u001b[39mreshape(num_points, num_bins)  \u001b[38;5;66;03m# density: Npts, Nbins\u001b[39;00m\n\u001b[1;32m     45\u001b[0m colors \u001b[38;5;241m=\u001b[39m colors\u001b[38;5;241m.\u001b[39mreshape(num_points, num_bins, \u001b[38;5;241m3\u001b[39m)  \u001b[38;5;66;03m# colors: Npts , Nbins, 3\u001b[39;00m\n",
      "\u001b[0;31mTypeError\u001b[0m: intersect() missing 1 required positional argument: 'xyz_d'"
     ]
    }
   ],
   "source": [
    "\n",
    "\n",
    "loss_history = []\n",
    "\n",
    "model = NGP_MLP( L, T, F, Nmin, Nmax, sph_coeff, hidden_dim, device=device)\n",
    "optim = torch.optim.Adam(params=model.parameters(), lr=lr)\n",
    "scheduler = torch.optim.lr_scheduler.ExponentialLR(optim, gamma=0.8)\n",
    "\n",
    "## START A NEW SESSION\n",
    "sess = generate_new_session(\"/home/ayush/projects/nerf/model_checkpoints/ingp\", \"fox\")\n",
    "\n",
    "\n",
    "\n",
    "################################## TEST ON SOME IMAGES\n",
    "\n",
    "def get_mse_and_psnr(gt, pr):\n",
    "    mse = ((gt - pr)**2).mean()\n",
    "    psnr = 20 * np.log10(1 / np.sqrt(mse))\n",
    "    return psnr, mse\n",
    "\n",
    "def test(session, model, test_ids, tn, tf, num_bins, directional_input, white_bgr, epoch):\n",
    "    with torch.no_grad():\n",
    "        for i in test_ids:\n",
    "            o_, d_ = create_rays(imgs[i], poses[i], intrinsics[i])\n",
    "            im  = imgs[i]\n",
    "            H, W, _ = im.shape\n",
    "            Ax = batchify_image_and_render(model=model,\n",
    "                                   rays_o=o_,\n",
    "                                   rays_d=d_,\n",
    "                                   tn=tn,\n",
    "                                   tf=tf,\n",
    "                                   num_bins=num_bins,\n",
    "                                   reduction_factor=128,\n",
    "                                   device=device,\n",
    "                                   directional_input=directional_input,\n",
    "                                   white_bgr=white_bgr)\n",
    "            Ax = Ax.reshape(H, W, 3)\n",
    "            psnr, mse = get_mse_and_psnr(im, Ax)\n",
    "            print(f\"Test IDs: {i}       | PSNR: {psnr: .3f} | MSE :{mse: .3f}\")\n",
    "            Ax = (Ax.reshape(H, W, 3) * 255).astype(np.uint8)\n",
    "            impath = osp.join(session.sess_dir, f\"epoch-{epoch}--image-{i}.png\")\n",
    "            cv2.imwrite(impath, cv2.cvtColor(Ax, cv2.COLOR_RGB2BGR))\n",
    "           \n",
    "        \n",
    "############################## WARM UP TRAINING : \n",
    "##################Train on center part of image (Needed for synthetic dataset  ####################\n",
    "\n",
    "print(\"Starting warm-up\")\n",
    "for e in range(warmup_epochs):\n",
    "    avg_loss = 0.\n",
    "    for batch in tqdm(dataloader_warmup):\n",
    "        BS = batch.shape[0]\n",
    "        batch = batch.reshape(-1, 9)\n",
    "        o = batch[:, 0:3]\n",
    "        d = batch[:, 3:6]\n",
    "        c = batch[:, 6:]\n",
    "        Ax = render_with_perturbation(model, o, d, tn, tf, num_bins, device=device, \n",
    "                    directional_input=directional_input,white_bgr=white_bgr)        \n",
    "        loss = ((Ax - c)**2).mean()\n",
    "        optim.zero_grad()\n",
    "        loss.backward()\n",
    "        optim.step()\n",
    "        loss_history.append(loss.item())\n",
    "        avg_loss += loss.item()\n",
    "    print(f\"Epoch: {e+1}: avg_loss: {avg_loss/ len(dataloader_warmup)}\")\n",
    "    modelpath = osp.join(sess.sess_dir, f'model_{obj}-warmup.pth')\n",
    "    torch.save(model.cpu(), modelpath)\n",
    "    model.to(device)\n",
    "    test(sess, model, test_ids, tn, tf, num_bins, directional_input, white_bgr, \"warmup\")\n",
    "    plt.plot(loss_history)\n",
    "    plt.show()\n",
    "\n",
    "    \n",
    "####################  MAIN TRAINING LOOP\n",
    "    \n",
    "print(\"--------------------------------------\")\n",
    "print(\"\\nStarting main process\")\n",
    "for e in range(num_epochs):\n",
    "    avg_loss = 0.\n",
    "    for batch in tqdm(dataloader): \n",
    "        BS = batch.shape[0]\n",
    "        batch = batch.reshape(-1, 9)\n",
    "        o = batch[:, 0:3]\n",
    "        d = batch[:, 3:6]\n",
    "        c = batch[:, 6:]\n",
    "        print(o.device, d.device, c.device)\n",
    "        Ax = render_with_perturbation(model, o, d, tn, tf, num_bins, directional_input=False, device=device, white_bgr=True)        \n",
    "        loss = ((Ax - c)**2).mean()\n",
    "        optim.zero_grad()\n",
    "        loss.backward()\n",
    "        optim.step()\n",
    "        loss_history.append(loss.item())\n",
    "        avg_loss += loss.item()\n",
    "    print(f\"Epoch: {e+1}: avg_loss: {avg_loss/ len(dataloader)}\")\n",
    "    scheduler.step()\n",
    "    modelpath = osp.join(sess.sess_dir, f'model_{obj}-epoch{e+1}.pth')\n",
    "    torch.save(model.cpu(), modelpath)\n",
    "    model.to(device)\n",
    "    test(sess, model, test_ids, tn, tf, num_bins, directional_input, white_bgr, e)\n",
    "    plt.plot(loss_history)\n",
    "    plt.show()\n",
    "    \n"
   ]
  },
  {
   "cell_type": "code",
   "execution_count": null,
   "id": "fcb5a92a-4fcd-4e7f-b022-dc9b706e4125",
   "metadata": {},
   "outputs": [],
   "source": [
    "# Train on L"
   ]
  },
  {
   "cell_type": "code",
   "execution_count": 273,
   "id": "fae9d04c-99bf-4de7-872a-4823efd6da03",
   "metadata": {
    "tags": []
   },
   "outputs": [
    {
     "data": {
      "text/plain": [
       "(32000000, 9)"
      ]
     },
     "execution_count": 273,
     "metadata": {},
     "output_type": "execute_result"
    }
   ],
   "source": [
    "##\n",
    "\n",
    "x = np.load(\"../assets/lego/testing_data.pkl\", allow_pickle=True)\n",
    "x.shape"
   ]
  },
  {
   "cell_type": "code",
   "execution_count": 275,
   "id": "f784e82d-416e-449a-808b-92f749109199",
   "metadata": {
    "tags": []
   },
   "outputs": [
    {
     "data": {
      "text/plain": [
       "(200, 400, 400, 3)"
      ]
     },
     "execution_count": 275,
     "metadata": {},
     "output_type": "execute_result"
    }
   ],
   "source": [
    "ix = x[:, 6:]\n",
    "ix = ix.reshape(-1, 400, 400, 3)\n",
    "ix.shape"
   ]
  },
  {
   "cell_type": "code",
   "execution_count": 276,
   "id": "78c04003-1125-4681-8c1e-df7e7a1d18a2",
   "metadata": {
    "tags": []
   },
   "outputs": [
    {
     "data": {
      "text/plain": [
       "<matplotlib.image.AxesImage at 0x7f9c0c271790>"
      ]
     },
     "execution_count": 276,
     "metadata": {},
     "output_type": "execute_result"
    },
    {
     "data": {
      "image/png": "[encoded data removed]",
      "text/plain": [
       "<Figure size 640x480 with 1 Axes>"
      ]
     },
     "metadata": {},
     "output_type": "display_data"
    }
   ],
   "source": [
    "plt.imshow(ix[0])"
   ]
  },
  {
   "cell_type": "code",
   "execution_count": null,
   "id": "26cb1462-2f45-4480-9a7f-5a8e47dbf4f9",
   "metadata": {},
   "outputs": [],
   "source": []
  }
 ],
 "metadata": {
  "kernelspec": {
   "display_name": "Python 3 (ipykernel)",
   "language": "python",
   "name": "python3"
  },
  "language_info": {
   "codemirror_mode": {
    "name": "ipython",
    "version": 3
   },
   "file_extension": ".py",
   "mimetype": "text/x-python",
   "name": "python",
   "nbconvert_exporter": "python",
   "pygments_lexer": "ipython3",
   "version": "3.8.17"
  }
 },
 "nbformat": 4,
 "nbformat_minor": 5
}
